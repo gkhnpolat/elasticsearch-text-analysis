{
 "cells": [
  {
   "cell_type": "code",
   "execution_count": null,
   "metadata": {},
   "outputs": [],
   "source": [
    "# Elasticsearch kutuphanesi kurma\n",
    "\n",
    "```pip install elasticsearch```"
   ]
  },
  {
   "cell_type": "code",
   "execution_count": 8,
   "metadata": {},
   "outputs": [],
   "source": [
    "# Import packages\n",
    "\n",
    "from elasticsearch import Elasticsearch"
   ]
  },
  {
   "cell_type": "code",
   "execution_count": 9,
   "metadata": {},
   "outputs": [],
   "source": [
    "# ElasticSearch Yapılandırma\n",
    "\n",
    "es = Elasticsearch(HOST=\"http://localhost\", PORT=9200)\n",
    "es = Elasticsearch()"
   ]
  },
  {
   "cell_type": "code",
   "execution_count": 11,
   "metadata": {
    "scrolled": true
   },
   "outputs": [
    {
     "data": {
      "text/plain": [
       "True"
      ]
     },
     "execution_count": 11,
     "metadata": {},
     "output_type": "execute_result"
    }
   ],
   "source": [
    "# Dizinin var olup olmadığına bakiyoruz\n",
    "\n",
    "es.indices.exists(index=\"first_index\")"
   ]
  },
  {
   "cell_type": "code",
   "execution_count": 12,
   "metadata": {},
   "outputs": [
    {
     "data": {
      "text/plain": [
       "{'acknowledged': True}"
      ]
     },
     "execution_count": 12,
     "metadata": {},
     "output_type": "execute_result"
    }
   ],
   "source": [
    "# Bir dizini silmek\n",
    "\n",
    "## Dizini silme\n",
    "\n",
    "es.indices.delete(index=\"first_index\")"
   ]
  },
  {
   "cell_type": "code",
   "execution_count": 13,
   "metadata": {},
   "outputs": [
    {
     "data": {
      "text/plain": [
       "False"
      ]
     },
     "execution_count": 13,
     "metadata": {},
     "output_type": "execute_result"
    }
   ],
   "source": [
    "es.indices.exists(index=\"first_index\")"
   ]
  },
  {
   "cell_type": "code",
   "execution_count": 14,
   "metadata": {
    "scrolled": true
   },
   "outputs": [
    {
     "data": {
      "text/plain": [
       "{'_index': 'cities',\n",
       " '_type': 'places',\n",
       " '_id': '1',\n",
       " '_version': 3,\n",
       " 'result': 'updated',\n",
       " '_shards': {'total': 2, 'successful': 1, 'failed': 0},\n",
       " '_seq_no': 6,\n",
       " '_primary_term': 3}"
      ]
     },
     "execution_count": 14,
     "metadata": {},
     "output_type": "execute_result"
    }
   ],
   "source": [
    "# Veri ekleme ve alma\n",
    "\n",
    "## Veri ekleme\n",
    "\n",
    "doc_1 = {\"city\": \"Ankara\", \"country\": \"Turkiye\"}\n",
    "doc_2 = {\"city\": \"Sivas\", \"country\": \"Turkiye\"}\n",
    "doc_3 = {\"city\": \"Kirikkale\", \"country\": \"Turkiye\"}\n",
    "\n",
    "es.index(index=\"cities\", doc_type=\"places\", id=1, body=doc_1)"
   ]
  },
  {
   "cell_type": "code",
   "execution_count": 15,
   "metadata": {},
   "outputs": [
    {
     "data": {
      "text/plain": [
       "{'_index': 'cities',\n",
       " '_type': 'places',\n",
       " '_id': '2',\n",
       " '_version': 3,\n",
       " 'result': 'updated',\n",
       " '_shards': {'total': 2, 'successful': 1, 'failed': 0},\n",
       " '_seq_no': 7,\n",
       " '_primary_term': 3}"
      ]
     },
     "execution_count": 15,
     "metadata": {},
     "output_type": "execute_result"
    }
   ],
   "source": [
    "es.index(index=\"cities\", doc_type=\"places\", id=2, body=doc_2)"
   ]
  },
  {
   "cell_type": "code",
   "execution_count": 16,
   "metadata": {},
   "outputs": [
    {
     "data": {
      "text/plain": [
       "{'_index': 'cities',\n",
       " '_type': 'places',\n",
       " '_id': '3',\n",
       " '_version': 3,\n",
       " 'result': 'updated',\n",
       " '_shards': {'total': 2, 'successful': 1, 'failed': 0},\n",
       " '_seq_no': 8,\n",
       " '_primary_term': 3}"
      ]
     },
     "execution_count": 16,
     "metadata": {},
     "output_type": "execute_result"
    }
   ],
   "source": [
    "es.index(index=\"cities\", doc_type=\"places\", id=3, body=doc_3)"
   ]
  },
  {
   "cell_type": "code",
   "execution_count": 17,
   "metadata": {},
   "outputs": [
    {
     "data": {
      "text/plain": [
       "{'_index': 'cities',\n",
       " '_type': 'places',\n",
       " '_id': '2',\n",
       " '_version': 3,\n",
       " '_seq_no': 7,\n",
       " '_primary_term': 3,\n",
       " 'found': True,\n",
       " '_source': {'city': 'Sivas', 'country': 'Turkiye'}}"
      ]
     },
     "execution_count": 17,
     "metadata": {},
     "output_type": "execute_result"
    }
   ],
   "source": [
    "# Verileri alma\n",
    "\n",
    "res = es.get(index=\"cities\", doc_type=\"places\", id=2)\n",
    "\n",
    "res"
   ]
  },
  {
   "cell_type": "code",
   "execution_count": 18,
   "metadata": {},
   "outputs": [
    {
     "data": {
      "text/plain": [
       "{'city': 'Sivas', 'country': 'Turkiye'}"
      ]
     },
     "execution_count": 18,
     "metadata": {},
     "output_type": "execute_result"
    }
   ],
   "source": [
    "# _source anahtarında bulunan verileri alma\n",
    "\n",
    "res[\"_source\"]"
   ]
  },
  {
   "cell_type": "code",
   "execution_count": 19,
   "metadata": {},
   "outputs": [
    {
     "data": {
      "text/plain": [
       "{'_index': 'turkish',\n",
       " '_type': 'sentences',\n",
       " '_id': '2',\n",
       " '_version': 3,\n",
       " 'result': 'updated',\n",
       " '_shards': {'total': 2, 'successful': 1, 'failed': 0},\n",
       " '_seq_no': 6,\n",
       " '_primary_term': 2}"
      ]
     },
     "execution_count": 19,
     "metadata": {},
     "output_type": "execute_result"
    }
   ],
   "source": [
    "# Arama sorgusu ve eşleşen belgeler\n",
    "\n",
    "## Verileri oluşturma\n",
    "\n",
    "doc_1 = {\"sentence\":\"COVID-19 gunumuzun en buyuk salgin hastaligi\"}\n",
    "doc_2 = {\"sentence\":\"insanlar karantina da kalarak hayatlarina devam etmeye calisiyor\"}\n",
    "\n",
    "es.index(index=\"turkish\", doc_type=\"sentences\", id=1, body=doc_1)\n",
    "es.index(index=\"turkish\", doc_type=\"sentences\", id=2, body=doc_2)"
   ]
  },
  {
   "cell_type": "code",
   "execution_count": 20,
   "metadata": {},
   "outputs": [
    {
     "data": {
      "text/plain": [
       "{'took': 1067,\n",
       " 'timed_out': False,\n",
       " '_shards': {'total': 1, 'successful': 1, 'skipped': 0, 'failed': 0},\n",
       " 'hits': {'total': {'value': 1, 'relation': 'eq'},\n",
       "  'max_score': None,\n",
       "  'hits': []}}"
      ]
     },
     "execution_count": 20,
     "metadata": {},
     "output_type": "execute_result"
    }
   ],
   "source": [
    "# Sorgu oluşturma\n",
    "\n",
    "## Sorguyu eşleştirme \n",
    "\n",
    "body = {\n",
    "    \"from\":0,\n",
    "    \"size\":0,\n",
    "    \"query\": {\n",
    "        \"match\": {\n",
    "            \"sentence\":\"COVID-19\"\n",
    "        }\n",
    "    }\n",
    "}\n",
    "\n",
    "res = es.search(index=\"turkish\", body=body)\n",
    "res"
   ]
  },
  {
   "cell_type": "code",
   "execution_count": 21,
   "metadata": {},
   "outputs": [
    {
     "data": {
      "text/plain": [
       "{'took': 7,\n",
       " 'timed_out': False,\n",
       " '_shards': {'total': 1, 'successful': 1, 'skipped': 0, 'failed': 0},\n",
       " 'hits': {'total': {'value': 1, 'relation': 'eq'},\n",
       "  'max_score': 1.7905316,\n",
       "  'hits': [{'_index': 'turkish',\n",
       "    '_type': 'sentences',\n",
       "    '_id': '1',\n",
       "    '_score': 1.7905316,\n",
       "    '_source': {'sentence': 'COVID-19 gunumuzun en buyuk salgin hastaligi'}}]}}"
      ]
     },
     "execution_count": 21,
     "metadata": {},
     "output_type": "execute_result"
    }
   ],
   "source": [
    "body = {\n",
    "    \"from\":0,\n",
    "    \"size\":2,\n",
    "    \"query\": {\n",
    "        \"match\": {\n",
    "            \"sentence\":\"COVID-19\"\n",
    "        }\n",
    "    }\n",
    "}\n",
    "\n",
    "res = es.search(index=\"turkish\", body=body)\n",
    "res"
   ]
  },
  {
   "cell_type": "code",
   "execution_count": 22,
   "metadata": {},
   "outputs": [
    {
     "data": {
      "text/plain": [
       "{'took': 4,\n",
       " 'timed_out': False,\n",
       " '_shards': {'total': 1, 'successful': 1, 'skipped': 0, 'failed': 0},\n",
       " 'hits': {'total': {'value': 1, 'relation': 'eq'},\n",
       "  'max_score': 0.94566,\n",
       "  'hits': [{'_index': 'turkish',\n",
       "    '_type': 'sentences',\n",
       "    '_id': '2',\n",
       "    '_score': 0.94566,\n",
       "    '_source': {'sentence': 'insanlar karantina da kalarak hayatlarina devam etmeye calisiyor'}}]}}"
      ]
     },
     "execution_count": 22,
     "metadata": {},
     "output_type": "execute_result"
    }
   ],
   "source": [
    "body = {\n",
    "    \"from\":0,\n",
    "    \"size\":2,\n",
    "    \"query\": {\n",
    "        \"match\": {\n",
    "            \"sentence\":\"karantina\"\n",
    "        }\n",
    "    }\n",
    "}\n",
    "\n",
    "res = es.search(index=\"turkish\", body=body)\n",
    "res"
   ]
  },
  {
   "cell_type": "code",
   "execution_count": 23,
   "metadata": {
    "scrolled": true
   },
   "outputs": [
    {
     "data": {
      "text/plain": [
       "{'took': 3,\n",
       " 'timed_out': False,\n",
       " '_shards': {'total': 1, 'successful': 1, 'skipped': 0, 'failed': 0},\n",
       " 'hits': {'total': {'value': 1, 'relation': 'eq'},\n",
       "  'max_score': 0.94566,\n",
       "  'hits': [{'_index': 'turkish',\n",
       "    '_type': 'sentences',\n",
       "    '_id': '2',\n",
       "    '_score': 0.94566,\n",
       "    '_source': {'sentence': 'insanlar karantina da kalarak hayatlarina devam etmeye calisiyor'}}]}}"
      ]
     },
     "execution_count": 23,
     "metadata": {},
     "output_type": "execute_result"
    }
   ],
   "source": [
    "# match_phrase \n",
    "\n",
    "body = {\n",
    "    \"from\":0,\n",
    "    \"size\":1,\n",
    "    \"query\": {\n",
    "        \"match_phrase\": {\n",
    "            \"sentence\":\"karantina\"\n",
    "        }\n",
    "    }\n",
    "}\n",
    "\n",
    "res = es.search(index=\"turkish\", body=body)\n",
    "res"
   ]
  },
  {
   "cell_type": "code",
   "execution_count": 24,
   "metadata": {
    "scrolled": true
   },
   "outputs": [
    {
     "data": {
      "text/plain": [
       "{'took': 14,\n",
       " 'timed_out': False,\n",
       " '_shards': {'total': 1, 'successful': 1, 'skipped': 0, 'failed': 0},\n",
       " 'hits': {'total': {'value': 1, 'relation': 'eq'},\n",
       "  'max_score': 0.94566,\n",
       "  'hits': [{'_index': 'turkish',\n",
       "    '_type': 'sentences',\n",
       "    '_id': '2',\n",
       "    '_score': 0.94566,\n",
       "    '_source': {'sentence': 'insanlar karantina da kalarak hayatlarina devam etmeye calisiyor'}}]}}"
      ]
     },
     "execution_count": 24,
     "metadata": {},
     "output_type": "execute_result"
    }
   ],
   "source": [
    "# Sorguları birleştirme\n",
    "\n",
    "## must, must_not and should\n",
    " \n",
    "body = {\n",
    "    \"from\":0,\n",
    "    \"size\":1,\n",
    "    \"query\": {\n",
    "        \"bool\": {\n",
    "            \"must_not\": {\n",
    "                \"match\": {\n",
    "                    \"sentence\":\"COVID-19\"\n",
    "                }\n",
    "            },\n",
    "            \"should\": {\n",
    "                \"match\": {\n",
    "                    \"sentence\": \"karantina\"\n",
    "                }\n",
    "            }\n",
    "        }\n",
    "    }\n",
    "}\n",
    "\n",
    "res = es.search(index=\"turkish\", body=body)\n",
    "res"
   ]
  },
  {
   "cell_type": "code",
   "execution_count": 25,
   "metadata": {},
   "outputs": [
    {
     "data": {
      "text/plain": [
       "{'_index': 'turkish',\n",
       " '_type': 'sentences',\n",
       " '_id': '1',\n",
       " '_version': 4,\n",
       " 'result': 'updated',\n",
       " '_shards': {'total': 2, 'successful': 1, 'failed': 0},\n",
       " '_seq_no': 7,\n",
       " '_primary_term': 2}"
      ]
     },
     "execution_count": 25,
     "metadata": {},
     "output_type": "execute_result"
    }
   ],
   "source": [
    "# Normal İfade Sorguları\n",
    "\n",
    "## Verileri güncelleme\n",
    "\n",
    "doc_1 = {\"sentence\":\"COVID-19 gunumuzun en buyuk salgin hastaligidir.\"}\n",
    "doc_2 = {\"sentence\":\"insanlar karantina da kalarak hayatlarina devam etmeye calisiyor.\"}\n",
    "doc_3 = {\"sentence\":\"Salgin doneminde egitim uzaktan egitim olarak yapilmaktadir.\"}\n",
    "\n",
    "es.index(index=\"turkish\", doc_type=\"sentences\", id=1, body=doc_1)"
   ]
  },
  {
   "cell_type": "code",
   "execution_count": 26,
   "metadata": {},
   "outputs": [
    {
     "data": {
      "text/plain": [
       "{'_index': 'turkish',\n",
       " '_type': 'sentences',\n",
       " '_id': '2',\n",
       " '_version': 4,\n",
       " 'result': 'updated',\n",
       " '_shards': {'total': 2, 'successful': 1, 'failed': 0},\n",
       " '_seq_no': 8,\n",
       " '_primary_term': 2}"
      ]
     },
     "execution_count": 26,
     "metadata": {},
     "output_type": "execute_result"
    }
   ],
   "source": [
    "es.index(index=\"turkish\", doc_type=\"sentences\", id=2, body=doc_2)"
   ]
  },
  {
   "cell_type": "code",
   "execution_count": 27,
   "metadata": {
    "scrolled": true
   },
   "outputs": [
    {
     "data": {
      "text/plain": [
       "{'_index': 'turkish',\n",
       " '_type': 'sentences',\n",
       " '_id': '3',\n",
       " '_version': 2,\n",
       " 'result': 'updated',\n",
       " '_shards': {'total': 2, 'successful': 1, 'failed': 0},\n",
       " '_seq_no': 9,\n",
       " '_primary_term': 2}"
      ]
     },
     "execution_count": 27,
     "metadata": {},
     "output_type": "execute_result"
    }
   ],
   "source": [
    "es.index(index=\"turkish\", doc_type=\"sentences\", id=3, body=doc_3)"
   ]
  },
  {
   "cell_type": "code",
   "execution_count": 28,
   "metadata": {
    "scrolled": true
   },
   "outputs": [
    {
     "data": {
      "text/plain": [
       "{'took': 10,\n",
       " 'timed_out': False,\n",
       " '_shards': {'total': 1, 'successful': 1, 'skipped': 0, 'failed': 0},\n",
       " 'hits': {'total': {'value': 3, 'relation': 'eq'},\n",
       "  'max_score': 1.0,\n",
       "  'hits': [{'_index': 'turkish',\n",
       "    '_type': 'sentences',\n",
       "    '_id': '1',\n",
       "    '_score': 1.0,\n",
       "    '_source': {'sentence': 'COVID-19 gunumuzun en buyuk salgin hastaligidir.'}},\n",
       "   {'_index': 'turkish',\n",
       "    '_type': 'sentences',\n",
       "    '_id': '2',\n",
       "    '_score': 1.0,\n",
       "    '_source': {'sentence': 'insanlar karantina da kalarak hayatlarina devam etmeye calisiyor.'}},\n",
       "   {'_index': 'turkish',\n",
       "    '_type': 'sentences',\n",
       "    '_id': '3',\n",
       "    '_score': 1.0,\n",
       "    '_source': {'sentence': 'Salgin doneminde egitim uzaktan egitim olarak yapilmaktadir.'}}]}}"
      ]
     },
     "execution_count": 28,
     "metadata": {},
     "output_type": "execute_result"
    }
   ],
   "source": [
    "# regexp sorgusu\n",
    "\n",
    "body = {\n",
    "    \"from\":0,\n",
    "    \"size\":3,\n",
    "    \"query\": {\n",
    "        \"regexp\": {\n",
    "            \"sentence\":\".*\"\n",
    "        }\n",
    "    }\n",
    "}\n",
    "\n",
    "res = es.search(index=\"turkish\", body=body)\n",
    "res"
   ]
  }
 ],
 "metadata": {
  "kernelspec": {
   "display_name": "Python 3",
   "language": "python",
   "name": "python3"
  },
  "language_info": {
   "codemirror_mode": {
    "name": "ipython",
    "version": 3
   },
   "file_extension": ".py",
   "mimetype": "text/x-python",
   "name": "python",
   "nbconvert_exporter": "python",
   "pygments_lexer": "ipython3",
   "version": "3.8.5"
  }
 },
 "nbformat": 4,
 "nbformat_minor": 2
}
